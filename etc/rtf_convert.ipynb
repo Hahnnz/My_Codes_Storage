{
 "cells": [
  {
   "cell_type": "code",
   "execution_count": 1,
   "metadata": {},
   "outputs": [],
   "source": [
    "import os, glob, math\n",
    "import numpy as np\n",
    "import textract\n",
    "import csv"
   ]
  },
  {
   "cell_type": "code",
   "execution_count": 2,
   "metadata": {},
   "outputs": [],
   "source": [
    "def get_filename(fulllocation):\n",
    "    i=1\n",
    "    while True:\n",
    "        if fulllocation[-i] is not \"/\":i += 1\n",
    "        else:\n",
    "            name=fulllocation[-(i-1):]\n",
    "            break\n",
    "    return name\n",
    "\n",
    "def explore_dir(dir,count=0):\n",
    "    if count==0:\n",
    "        global n_dir, n_file, filenames, filelocations\n",
    "        n_dir=n_file=0\n",
    "        filenames=filelocations=np.array([])\n",
    "    for img_path in sorted(glob.glob(os.path.join(dir,'*'))):\n",
    "        if os.path.isdir(img_path):\n",
    "            n_dir +=1\n",
    "            explore_dir(img_path,count+1)\n",
    "        elif os.path.isfile(img_path):\n",
    "            n_file += 1\n",
    "            loc=np.array([img_path])\n",
    "            name=np.array([get_filename(img_path)])\n",
    "            filelocations=np.concatenate((filelocations, loc), axis=0)\n",
    "            filenames=np.concatenate((filenames, name), axis=0)\n",
    "    return np.array([filenames,filelocations])"
   ]
  },
  {
   "cell_type": "code",
   "execution_count": 3,
   "metadata": {},
   "outputs": [],
   "source": [
    "mydir=explore_dir(\"./\",0)\n",
    "mylist=list()"
   ]
  },
  {
   "cell_type": "code",
   "execution_count": 4,
   "metadata": {},
   "outputs": [],
   "source": [
    "for i in range(len(mydir[0])):\n",
    "    tt = textract.process(mydir[1][i],extension='rtf').decode().replace(\" \",\"\").split(',')\n",
    "    for i in range(len(tt)):\n",
    "        tt[i]=tt[i].replace(\"###invalidfontnumber1\\n\",\"\")\n",
    "        tt[i]=tt[i].replace(\"###invalidfontnumber0\\n\",\"\")\n",
    "        tt[i]=tt[i].replace(\"###invalidfontnumber0-1\\n\",\"\")\n",
    "        tt[i]=tt[i].replace(\"\\n\",\"\")\n",
    "    tt = \",\".join(tt)\n",
    "    mylist.append(tt)"
   ]
  },
  {
   "cell_type": "code",
   "execution_count": 5,
   "metadata": {},
   "outputs": [
    {
     "name": "stdout",
     "output_type": "stream",
     "text": [
      "rm: output.csv: No such file or directory\r\n"
     ]
    }
   ],
   "source": [
    "% rm output.csv\n",
    "coor_file = open('output.csv', 'w', encoding='utf-8', newline='')\n",
    "wr = csv.writer(coor_file)\n",
    "for lists in mylist:\n",
    "    wr.writerow(lists.split(','))\n",
    "coor_file.close()"
   ]
  }
 ],
 "metadata": {
  "kernelspec": {
   "display_name": "Python 3",
   "language": "python",
   "name": "python3"
  },
  "language_info": {
   "codemirror_mode": {
    "name": "ipython",
    "version": 3
   },
   "file_extension": ".py",
   "mimetype": "text/x-python",
   "name": "python",
   "nbconvert_exporter": "python",
   "pygments_lexer": "ipython3",
   "version": "3.6.4"
  }
 },
 "nbformat": 4,
 "nbformat_minor": 2
}
