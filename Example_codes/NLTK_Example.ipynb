{
 "cells": [
  {
   "cell_type": "markdown",
   "metadata": {},
   "source": [
    "## How to Use NLTK\n",
    "* install NLTK : `$ pip3 install --user nltk`"
   ]
  },
  {
   "cell_type": "code",
   "execution_count": 1,
   "metadata": {},
   "outputs": [],
   "source": [
    "from scripts.word_sparse_matrix import *\n",
    "from scripts.load_dataset import *\n",
    "import matplotlib.pyplot as plt\n",
    "import nltk\n",
    "from nltk.corpus import wordnet\n",
    "from gensim.models.word2vec import Word2Vec\n",
    "from konlpy.tag import Twitter; t = Twitter()\n",
    "\n",
    "%matplotlib inline"
   ]
  },
  {
   "cell_type": "code",
   "execution_count": 2,
   "metadata": {},
   "outputs": [],
   "source": [
    "wordset = load_dataset(\"./dataset/word_n63.mat\")\n",
    "uniq_word_list = sorted(list(set(wordset.reshape(-1))))\n",
    "sparse = word_sparse_matrix(wordset,except_seed_words=True, to_array=True)\n",
    "tagged_wordset = t.pos(\" \".join(wordset.reshape(-1)))"
   ]
  },
  {
   "cell_type": "code",
   "execution_count": 4,
   "metadata": {},
   "outputs": [],
   "source": [
    "w2v = Word2Vec(tagged_wordset, size=300, window=2, min_count=1, workers=8)"
   ]
  },
  {
   "cell_type": "code",
   "execution_count": 26,
   "metadata": {},
   "outputs": [],
   "source": [
    "wordset = load_dataset(\"./dataset/word_n63.mat\")\n",
    "nltk_wordset = nltk.Text(wordset.reshape(-1))\n",
    "\n",
    "tagged_wordset = t.pos(\" \".join(wordset.reshape(-1)))\n",
    "\n",
    "w2v = Word2Vec(tagged_wordset)"
   ]
  },
  {
   "cell_type": "code",
   "execution_count": 5,
   "metadata": {},
   "outputs": [
    {
     "name": "stdout",
     "output_type": "stream",
     "text": [
      "유의어 : bury, blank_out, block, leave, draw_a_blank, forget\n",
      "\n",
      "반의어 : mind, remember\n",
      "\n"
     ]
    }
   ],
   "source": [
    "# Get synonyms & antonyms for given word\n",
    "synonyms = []\n",
    "antonyms = []\n",
    " \n",
    "for syn in wordnet.synsets(\"forget\"):\n",
    "    for l in syn.lemmas():\n",
    "        synonyms.append(l.name())\n",
    "        if l.antonyms():\n",
    "            antonyms.append(l.antonyms()[0].name())\n",
    "\n",
    "print(\"유의어 : \"+\", \".join(list(set(synonyms)))+\"\\n\")\n",
    "print(\"반의어 : \"+\", \".join(list(set(antonyms)))+\"\\n\")"
   ]
  },
  {
   "cell_type": "code",
   "execution_count": 27,
   "metadata": {},
   "outputs": [
    {
     "name": "stderr",
     "output_type": "stream",
     "text": [
      "/home/hahnz/.local/lib/python3.5/site-packages/ipykernel_launcher.py:1: DeprecationWarning: Call to deprecated `most_similar` (Method will be removed in 4.0.0, use self.wv.most_similar() instead).\n",
      "  \"\"\"Entry point for launching an IPython kernel.\n",
      "/home/hahnz/.local/lib/python3.5/site-packages/gensim/matutils.py:737: FutureWarning: Conversion of the second argument of issubdtype from `int` to `np.signedinteger` is deprecated. In future, it will be treated as `np.int64 == np.dtype(int).type`.\n",
      "  if np.issubdtype(vec.dtype, np.int):\n"
     ]
    },
    {
     "data": {
      "text/plain": [
       "[('눈물', 0.7219860553741455),\n",
       " ('사람', 0.7210228443145752),\n",
       " ('움', 0.7203647494316101),\n",
       " ('부모님', 0.7132474184036255),\n",
       " ('집', 0.7074435949325562),\n",
       " ('한강', 0.7071163654327393),\n",
       " ('거울', 0.706200897693634),\n",
       " ('이모', 0.7061610221862793),\n",
       " ('옷', 0.7050894498825073),\n",
       " ('요리', 0.7050391435623169)]"
      ]
     },
     "execution_count": 27,
     "metadata": {},
     "output_type": "execute_result"
    }
   ],
   "source": [
    "w2v.most_similar(positive=['엄마','남자'], negative=['여자'])"
   ]
  },
  {
   "cell_type": "code",
   "execution_count": null,
   "metadata": {},
   "outputs": [],
   "source": []
  }
 ],
 "metadata": {
  "kernelspec": {
   "display_name": "Python 3",
   "language": "python",
   "name": "python3"
  },
  "language_info": {
   "codemirror_mode": {
    "name": "ipython",
    "version": 3
   },
   "file_extension": ".py",
   "mimetype": "text/x-python",
   "name": "python",
   "nbconvert_exporter": "python",
   "pygments_lexer": "ipython3",
   "version": "3.5.2"
  }
 },
 "nbformat": 4,
 "nbformat_minor": 2
}
