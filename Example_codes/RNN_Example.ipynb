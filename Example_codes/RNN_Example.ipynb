{
 "cells": [
  {
   "cell_type": "code",
   "execution_count": 2,
   "metadata": {},
   "outputs": [],
   "source": [
    "from scripts.word_sparse_matrix import *\n",
    "from scripts.load_dataset import *\n",
    "from tqdm import tqdm\n",
    "import tensorflow as tf\n",
    "import os\n",
    "\n",
    "os.environ[\"CUDA_DEVICE_ORDER\"]=\"PCI_BUS_ID\"\n",
    "os.environ[\"CUDA_VISIBLE_DEVICES\"]=\"3\"\n",
    "emsize=5\n",
    "\n",
    "wordset=load_dataset(\"./dataset/word_n63.mat\").reshape(-1,4*41)\n",
    "uniq_words = sorted(set(load_dataset(\"./dataset/word_n63.mat\").reshape(-1)))\n",
    "\n",
    "f = open('./Untitled Folder/ces-d.txt','r')\n",
    "ces_d = list(map(int,f.readline().split(', ')))\n",
    "ces_d = np.array([ces_d]).transpose(1,0)\n",
    "\n",
    "#embedding = np.array(list(map(float,open('./w2v_out/w2v_out_embsize-'+str(emsize)+'.txt','r').read().split(',')))).reshape(-1,emsize)\n",
    "\n",
    "#uniq_word_embedding = {word : embedded for word, embedded in zip(uniq_words, embedding)}"
   ]
  },
  {
   "cell_type": "code",
   "execution_count": 4,
   "metadata": {},
   "outputs": [],
   "source": [
    "import scipy"
   ]
  },
  {
   "cell_type": "code",
   "execution_count": 5,
   "metadata": {},
   "outputs": [],
   "source": [
    "dim_score = np.array(list(scipy.io.loadmat('./dataset/temp_dim_rating.mat')['dat'].squeeze()))"
   ]
  },
  {
   "cell_type": "code",
   "execution_count": 27,
   "metadata": {},
   "outputs": [],
   "source": [
    "tt = []\n",
    "for i in range(wordset.shape[0]):\n",
    "    for j in range(wordset.shape[1]):\n",
    "        tt.append(uniq_word_embedding[wordset[i,j]])\n",
    "wordset = np.array(tt)"
   ]
  },
  {
   "cell_type": "code",
   "execution_count": 28,
   "metadata": {},
   "outputs": [],
   "source": [
    "wordset=np.array(wordset).reshape(-1,164,emsize)"
   ]
  },
  {
   "cell_type": "code",
   "execution_count": 10,
   "metadata": {},
   "outputs": [],
   "source": [
    "tf.reset_default_graph()\n",
    "x = tf.placeholder(tf.float32, [None, 160,emsize])\n",
    "y = tf.placeholder(tf.float32, [None, 1]) \n",
    "keep_prob = tf.placeholder(tf.float32)\n",
    "n_hidden=200\n",
    "\n",
    "W = tf.Variable(tf.random_normal([n_hidden,1]))\n",
    "b = tf.Variable(tf.random_normal([1]))\n",
    "\n",
    "cell1 = tf.nn.rnn_cell.BasicLSTMCell(n_hidden)\n",
    "cell1 = tf.nn.rnn_cell.DropoutWrapper(cell1, output_keep_prob=0.5)    \n",
    "cell2 = tf.nn.rnn_cell.BasicLSTMCell(n_hidden)         \n",
    "multi_cell = tf.nn.rnn_cell.MultiRNNCell([cell1, cell2])\n",
    "\n",
    "outputs, states = tf.nn.dynamic_rnn(multi_cell, x, dtype=tf.float32)\n",
    "outputs = tf.transpose(outputs, [1, 0, 2])\n",
    "outputs = outputs[-1]\n",
    "logits = tf.matmul(outputs, W) + b\n",
    "#logits = tf.nn.tanh(logits)\n",
    "\n",
    "def R_squared(y, y_pred):\n",
    "    residual = tf.reduce_sum(tf.square(tf.subtract(x=y, y=y_pred)))\n",
    "    total = tf.reduce_sum(tf.square(tf.subtract(y, tf.reduce_mean(y))))\n",
    "    r2 = tf.subtract(1.0, tf.div(residual, total))\n",
    "    return r2\n",
    "\n",
    "R2 = R_squared(y[:,0], logits[:,0])"
   ]
  },
  {
   "cell_type": "code",
   "execution_count": 11,
   "metadata": {},
   "outputs": [],
   "source": [
    "cost = tf.reduce_mean(tf.losses.mean_squared_error(labels=y, predictions=logits))\n",
    "\n",
    "optimizer = tf.train.AdamOptimizer(1e-2).minimize(cost)"
   ]
  },
  {
   "cell_type": "code",
   "execution_count": 12,
   "metadata": {},
   "outputs": [],
   "source": [
    "config = tf.ConfigProto(log_device_placement=False, allow_soft_placement=True)\n",
    "config.gpu_options.allow_growth = True\n",
    "\n",
    "sess = tf.Session(config=config)\n",
    "graph = tf.get_default_graph()"
   ]
  },
  {
   "cell_type": "code",
   "execution_count": 13,
   "metadata": {},
   "outputs": [],
   "source": [
    "tr_idx=[0, 1, 3, 4, 6, 7, 8, 9, 12, 13, 15, 20,\n",
    "        21, 23, 24, 25, 26, 27, 28, 29, 30, 31,\n",
    "        32, 34, 36, 37, 38, 42, 43, 45, 46, 47,\n",
    "        49, 50, 51, 53, 54, 56, 59, 60, 61, 62]\n",
    "\n",
    "te_idx=[2, 5, 10, 11, 14, 16, 17, 18, 19, 22, 33,\n",
    "        35, 39, 40, 41, 44, 48, 52, 55, 57, 58]\n",
    "\n",
    "tr_wordset = dim_score[tr_idx]\n",
    "tr_ces_d = ces_d[tr_idx]\n",
    "te_wordset = dim_score[te_idx]\n",
    "te_ces_d = ces_d[te_idx]"
   ]
  },
  {
   "cell_type": "code",
   "execution_count": null,
   "metadata": {},
   "outputs": [
    {
     "name": "stderr",
     "output_type": "stream",
     "text": [
      "[ Step : 2750]:  28%|██▊       | 2750/10000 [11:56<35:04,  3.45it/s,  Train Loss : 0.1424 Train R_Sqaure : 0.9982 Test Loss : 88.3415 R_Sqaure : -0.4827]   "
     ]
    }
   ],
   "source": [
    "iter_num=10000\n",
    "\n",
    "with tqdm(total = iter_num) as pbar:\n",
    "    sess.run(tf.global_variables_initializer())\n",
    "    for step in range(iter_num):\n",
    "        \n",
    "        # Training\n",
    "        tr_loss, tr_r2, _ = sess.run([cost, R2, optimizer], {x: tr_wordset, y : tr_ces_d, keep_prob : 0.7 })\n",
    "        te_loss, te_r2, = sess.run([cost, R2], {x: te_wordset, y : te_ces_d, keep_prob:1.})\n",
    "        \n",
    "        pbar.update(1)\n",
    "        pbar.set_description(\"[ Step : \"+str(step+1)+\"]\")\n",
    "        pbar.set_postfix_str(\" Train Loss : \"+'%.4f' % (tr_loss) + \" Train R_Sqaure : \"+'%.4f' % (tr_r2) +  ' Test Loss : ' + '%.4f'%(te_loss) + ' R_Sqaure : ' + '%.4f'%(te_r2))"
   ]
  },
  {
   "cell_type": "code",
   "execution_count": 97,
   "metadata": {},
   "outputs": [],
   "source": [
    "red = sess.run(logits, {x: te_wordset,y : te_ces_d, keep_prob:1.})"
   ]
  },
  {
   "cell_type": "code",
   "execution_count": 99,
   "metadata": {
    "scrolled": true
   },
   "outputs": [
    {
     "name": "stdout",
     "output_type": "stream",
     "text": [
      "(-3.7058489, 11)\n",
      "(6.8751211, 43)\n",
      "(-11.591451, 24)\n",
      "(16.433159, 15)\n",
      "(22.388157, 5)\n",
      "(-8.7307968, 24)\n",
      "(16.491894, 0)\n",
      "(-1.5547183, 0)\n",
      "(-7.0858641, 33)\n",
      "(-1.1795514, 6)\n",
      "(1.3317552, 30)\n",
      "(2.0193491, 7)\n",
      "(20.740721, 11)\n",
      "(-1.543364, 7)\n",
      "(1.3274186, 5)\n",
      "(13.748446, 23)\n",
      "(-3.5737519, 5)\n",
      "(-2.5582914, 8)\n",
      "(-12.800781, 20)\n",
      "(-7.7891049, 5)\n",
      "(-11.929564, 8)\n"
     ]
    }
   ],
   "source": [
    "for tt in zip(red[:,0]*43,ces_d[:,0]):\n",
    "    print(tt)"
   ]
  },
  {
   "cell_type": "code",
   "execution_count": null,
   "metadata": {},
   "outputs": [],
   "source": []
  }
 ],
 "metadata": {
  "kernelspec": {
   "display_name": "Python 3",
   "language": "python",
   "name": "python3"
  },
  "language_info": {
   "codemirror_mode": {
    "name": "ipython",
    "version": 3
   },
   "file_extension": ".py",
   "mimetype": "text/x-python",
   "name": "python",
   "nbconvert_exporter": "python",
   "pygments_lexer": "ipython3",
   "version": "3.5.2"
  }
 },
 "nbformat": 4,
 "nbformat_minor": 2
}
