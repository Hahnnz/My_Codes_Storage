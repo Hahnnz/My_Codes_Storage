{
 "cells": [
  {
   "cell_type": "code",
   "execution_count": 1,
   "metadata": {},
   "outputs": [],
   "source": [
    "import pandas as pd\n",
    "import numpy as np\n",
    "import cv2 \n",
    "import skimage\n",
    "from skimage import io, transform, draw\n",
    "import matplotlib.pyplot as plt\n",
    "import copy\n",
    "%matplotlib inline"
   ]
  },
  {
   "cell_type": "code",
   "execution_count": 2,
   "metadata": {
    "scrolled": true
   },
   "outputs": [],
   "source": [
    "testset=np.array(pd.read_csv(\"/home/hahnz/dataset.csv\",header=None).as_matrix())"
   ]
  },
  {
   "cell_type": "code",
   "execution_count": 3,
   "metadata": {},
   "outputs": [],
   "source": [
    "def Preprocess(dataset,re_img_size=(256,256)):\n",
    "    img_set=np.zeros([len(dataset),re_img_size[0],re_img_size[1],3])\n",
    "    coor_set=np.zeros([len(dataset),14,2])\n",
    "    \n",
    "    for i in range(len(dataset)):\n",
    "        img=skimage.io.imread(dataset[i][0])\n",
    "        \n",
    "        img_set[i]=skimage.transform.resize(img,(re_img_size[0],re_img_size[1],3))\n",
    "        coor_set[i]=dataset[i][1:].reshape((14,2))\n",
    "        \n",
    "        for j in range(14):\n",
    "            if coor_set[i][j][0]==-1: pass\n",
    "            else: coor_set[i][j][0]=coor_set[i][j][0]*(re_img_size[0]/img.shape[1])\n",
    "            if coor_set[i][j][1]==-1: pass\n",
    "            else: coor_set[i][j][1]=coor_set[i][j][1]*(re_img_size[1]/img.shape[0])\n",
    "    return img_set, coor_set"
   ]
  },
  {
   "cell_type": "code",
   "execution_count": 4,
   "metadata": {},
   "outputs": [],
   "source": [
    "def markJoints(img, joints):  \n",
    "    circSize=5\n",
    "    font = cv2.FONT_HERSHEY_SIMPLEX\n",
    "    for i in range(14):\n",
    "        x = int(joints[i,0])\n",
    "        y = int(joints[i,1])\n",
    "        if x!=-1: \n",
    "            rr, cc = skimage.draw.circle(y, x, circSize) \n",
    "            skimage.draw.set_color(img, (rr, cc), (1,0,0)) \n",
    "            cv2.putText(img, str(i+1), (x,y), font, 0.5, (0.5,0.5,0.5), 2, cv2.LINE_AA)\n",
    "    return img"
   ]
  },
  {
   "cell_type": "code",
   "execution_count": 5,
   "metadata": {},
   "outputs": [
    {
     "name": "stderr",
     "output_type": "stream",
     "text": [
      "/home/hahnz/.local/lib/python3.5/site-packages/skimage/transform/_warps.py:84: UserWarning: The default mode, 'constant', will be changed to 'reflect' in skimage 0.15.\n",
      "  warn(\"The default mode, 'constant', will be changed to 'reflect' in \"\n"
     ]
    }
   ],
   "source": [
    "picpic, coco =Preprocess(dataset=testset)"
   ]
  },
  {
   "cell_type": "code",
   "execution_count": 6,
   "metadata": {},
   "outputs": [
    {
     "name": "stdout",
     "output_type": "stream",
     "text": [
      "mkdir: cannot create directory ‘p_img’: File exists\r\n",
      "mkdir: cannot create directory ‘p_with_coors_img’: File exists\r\n"
     ]
    },
    {
     "name": "stderr",
     "output_type": "stream",
     "text": [
      "/home/hahnz/.local/lib/python3.5/site-packages/skimage/util/dtype.py:122: UserWarning: Possible precision loss when converting from float64 to uint8\n",
      "  .format(dtypeobj_in, dtypeobj_out))\n"
     ]
    }
   ],
   "source": [
    "%mkdir p_img p_with_coors_img\n",
    "for i in range(len(picpic)):\n",
    "    skimage.io.imsave(\"./p_img/p-img_\"+str(i)+\".jpg\",picpic[i]) \n",
    "    skimage.io.imsave(\"./p_with_coors_img/p-img_\"+str(i)+\".jpg\",markJoints(picpic[i],coco[i]))"
   ]
  },
  {
   "cell_type": "code",
   "execution_count": null,
   "metadata": {},
   "outputs": [],
   "source": []
  }
 ],
 "metadata": {
  "kernelspec": {
   "display_name": "Python 3",
   "language": "python",
   "name": "python3"
  },
  "language_info": {
   "codemirror_mode": {
    "name": "ipython",
    "version": 3
   },
   "file_extension": ".py",
   "mimetype": "text/x-python",
   "name": "python",
   "nbconvert_exporter": "python",
   "pygments_lexer": "ipython3",
   "version": "3.5.2"
  }
 },
 "nbformat": 4,
 "nbformat_minor": 2
}
