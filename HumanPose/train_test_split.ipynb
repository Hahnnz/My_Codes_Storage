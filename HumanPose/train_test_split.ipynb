{
 "cells": [
  {
   "cell_type": "code",
   "execution_count": 1,
   "metadata": {},
   "outputs": [],
   "source": [
    "import pandas as pd\n",
    "import numpy as np\n",
    "\n",
    "ratio = 10\n",
    "n_data = 60\n",
    "n_classes = 10"
   ]
  },
  {
   "cell_type": "code",
   "execution_count": 2,
   "metadata": {},
   "outputs": [],
   "source": [
    "train_csv = list(pd.read_csv(\"./activity-met_n10_ub_new.csv\", header=None).as_matrix())\n",
    "test_csv = list(list([\"\" if j==0 else 0 for j in range(len(train_csv[0]))] for i in range(len(train_csv)//ratio)))"
   ]
  },
  {
   "cell_type": "code",
   "execution_count": 3,
   "metadata": {},
   "outputs": [],
   "source": [
    "test_indices = list()\n",
    "\n",
    "for i in range(n_classes):\n",
    "    samples = np.random.choice(range(i*n_data, (i+1)*n_data),6,replace=False)\n",
    "    for sample in list(samples):\n",
    "        test_indices.append(sample)\n",
    "        \n",
    "for i, idx in enumerate(list(reversed(sorted(test_indices)))):\n",
    "    test_csv[i] = train_csv.pop(idx)"
   ]
  },
  {
   "cell_type": "code",
   "execution_count": 4,
   "metadata": {},
   "outputs": [],
   "source": [
    "pd.DataFrame(np.array(test_csv)).to_csv(\"train.csv\", sep=',', encoding='utf-8',index=False,header=None)\n",
    "pd.DataFrame(np.array(test_csv)).to_csv(\"test.csv\", sep=',', encoding='utf-8',index=False,header=None)"
   ]
  }
 ],
 "metadata": {
  "kernelspec": {
   "display_name": "Python 3",
   "language": "python",
   "name": "python3"
  },
  "language_info": {
   "codemirror_mode": {
    "name": "ipython",
    "version": 3
   },
   "file_extension": ".py",
   "mimetype": "text/x-python",
   "name": "python",
   "nbconvert_exporter": "python",
   "pygments_lexer": "ipython3",
   "version": "3.6.4"
  }
 },
 "nbformat": 4,
 "nbformat_minor": 2
}
