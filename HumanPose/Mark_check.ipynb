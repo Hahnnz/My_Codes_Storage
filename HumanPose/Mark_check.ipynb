{
 "cells": [
  {
   "cell_type": "code",
   "execution_count": 1,
   "metadata": {},
   "outputs": [],
   "source": [
    "import numpy as np\n",
    "import pandas as pd\n",
    "import cv2, skimage\n",
    "from skimage import draw, io\n",
    "import matplotlib.pyplot as plt\n",
    "%matplotlib inline"
   ]
  },
  {
   "cell_type": "code",
   "execution_count": 2,
   "metadata": {},
   "outputs": [],
   "source": [
    "tt=pd.read_csv(\"./activity-met_n10_ub_new.csv\", header=None).as_matrix()"
   ]
  },
  {
   "cell_type": "code",
   "execution_count": 3,
   "metadata": {},
   "outputs": [],
   "source": [
    "def markJoints(img, joints):\n",
    "    font = cv2.FONT_HERSHEY_SIMPLEX\n",
    "    for i in range(14):\n",
    "        x, y = map(int,joints[i])\n",
    "        if x!=-1: \n",
    "            cv2.circle(img, (x, y), 4, (0, 0, 255), thickness=-1)\n",
    "            cv2.putText(img, str(i+1), (x,y), font, 0.5, (0,0,255), 2, cv2.LINE_AA)\n",
    "    return img"
   ]
  },
  {
   "cell_type": "code",
   "execution_count": 4,
   "metadata": {},
   "outputs": [],
   "source": [
    "img_set=list(map((lambda x : markJoints(cv2.imread(x[0]),x[1:29].reshape(14,2))),tt))"
   ]
  },
  {
   "cell_type": "code",
   "execution_count": 5,
   "metadata": {},
   "outputs": [],
   "source": [
    "for i, path in enumerate(tt[:,0]):\n",
    "    cv2.imwrite(path,img_set[i])"
   ]
  }
 ],
 "metadata": {
  "kernelspec": {
   "display_name": "Python 3",
   "language": "python",
   "name": "python3"
  },
  "language_info": {
   "codemirror_mode": {
    "name": "ipython",
    "version": 3
   },
   "file_extension": ".py",
   "mimetype": "text/x-python",
   "name": "python",
   "nbconvert_exporter": "python",
   "pygments_lexer": "ipython3",
   "version": "3.5.2"
  }
 },
 "nbformat": 4,
 "nbformat_minor": 2
}
