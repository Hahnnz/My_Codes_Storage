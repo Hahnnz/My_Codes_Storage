{
 "cells": [
  {
   "cell_type": "code",
   "execution_count": 1,
   "metadata": {},
   "outputs": [],
   "source": [
    "import matplotlib.pyplot as plt\n",
    "import cv2\n",
    "import glob\n",
    "import os\n",
    "import numpy as np\n",
    "\n",
    "%matplotlib inline"
   ]
  },
  {
   "cell_type": "code",
   "execution_count": 2,
   "metadata": {},
   "outputs": [],
   "source": [
    "def get_filename(fulllocation):\n",
    "    i=1\n",
    "    while True:\n",
    "        if fulllocation[-i] is not \"/\":\n",
    "            i += 1\n",
    "        else:\n",
    "            name=fulllocation[-(i-1):]\n",
    "            break\n",
    "    return name\n",
    "\n",
    "def explore_dir(dir,count):\n",
    "    if count==0:\n",
    "        global n_dir, n_file, filenames, filelocations\n",
    "        n_dir=n_file=0\n",
    "        filenames=filelocations=np.array([])\n",
    "    for obj in glob.glob(dir+\"/*\"):\n",
    "        if os.path.isdir(obj):\n",
    "            n_dir +=1\n",
    "            explore_dir(obj,count+1)\n",
    "        elif os.path.isfile(obj):\n",
    "            n_file += 1\n",
    "            loc=np.array([obj])\n",
    "            name=np.array([get_filename(obj)])\n",
    "            filelocations=np.concatenate((filelocations, loc), axis=0)\n",
    "            filenames=np.concatenate((filenames, name), axis=0)\n",
    "    return np.array([filenames,filelocations])"
   ]
  },
  {
   "cell_type": "code",
   "execution_count": 3,
   "metadata": {},
   "outputs": [],
   "source": [
    "def markJoints(img, joints):  \n",
    "    numJoints, t = joints.shape\n",
    "    circSize=10\n",
    "    font = cv2.FONT_HERSHEY_SIMPLEX\n",
    "    for i in range(numJoints):\n",
    "        x = int(joints[i,0])\n",
    "        y = int(joints[i,1])\n",
    "    \n",
    "        cv2.circle(img, (x, y), 4, (255, 0, 0), thickness=-1)\n",
    "        cv2.putText(img, str(i+1), (x,y), font, 0.5, (100,100,100), 1, cv2.LINE_AA)"
   ]
  },
  {
   "cell_type": "code",
   "execution_count": 4,
   "metadata": {},
   "outputs": [],
   "source": [
    "dataset=explore_dir(\"/Users/macbook/src/GIT/My_Tools/HumanPose/MET Data Set/\",0)"
   ]
  },
  {
   "cell_type": "code",
   "execution_count": 5,
   "metadata": {},
   "outputs": [],
   "source": [
    "joints=open(\"/Users/macbook/Desktop/joints/jsw.txt\",\"r\")"
   ]
  },
  {
   "cell_type": "code",
   "execution_count": 6,
   "metadata": {},
   "outputs": [],
   "source": [
    "coors=np.zeros([20,14,2],dtype=int)\n",
    "joints=open(\"/Users/macbook/Desktop/joints/jsw.txt\",\"r\")\n",
    "for i in range(20):\n",
    "    for j in range(14):\n",
    "        XY=joints.readline()\n",
    "        k=0\n",
    "        while True:\n",
    "            if XY[k]==\",\": break\n",
    "            else: k+=1\n",
    "        coors[i][j][:]=int(XY[1:k]),int(XY[k+1:-2])"
   ]
  },
  {
   "cell_type": "code",
   "execution_count": 7,
   "metadata": {
    "scrolled": true
   },
   "outputs": [
    {
     "data": {
      "text/plain": [
       "<matplotlib.image.AxesImage at 0x10f347438>"
      ]
     },
     "execution_count": 7,
     "metadata": {},
     "output_type": "execute_result"
    },
    {
     "data": {
      "image/png": "[encoded data removed]",
      "text/plain": [
       "<matplotlib.figure.Figure at 0x10e9616d8>"
      ]
     },
     "metadata": {},
     "output_type": "display_data"
    }
   ],
   "source": [
    "indices=[0,1]\n",
    "img=cv2.imread(dataset[1][indices[0]])\n",
    "markJoints(img,coors[indices[1]])\n",
    "plt.imshow(img)"
   ]
  },
  {
   "cell_type": "code",
   "execution_count": 8,
   "metadata": {
    "scrolled": true
   },
   "outputs": [
    {
     "data": {
      "text/plain": [
       "True"
      ]
     },
     "execution_count": 8,
     "metadata": {},
     "output_type": "execute_result"
    }
   ],
   "source": [
    "cv2.imwrite(\"/Users/macbook/Desktop/joints/pic/walking/\"+dataset[0][indices[0]],img)"
   ]
  },
  {
   "cell_type": "code",
   "execution_count": null,
   "metadata": {},
   "outputs": [],
   "source": [
    "2,1"
   ]
  }
 ],
 "metadata": {
  "kernelspec": {
   "display_name": "Python 3",
   "language": "python",
   "name": "python3"
  },
  "language_info": {
   "codemirror_mode": {
    "name": "ipython",
    "version": 3
   },
   "file_extension": ".py",
   "mimetype": "text/x-python",
   "name": "python",
   "nbconvert_exporter": "python",
   "pygments_lexer": "ipython3",
   "version": "3.6.2"
  }
 },
 "nbformat": 4,
 "nbformat_minor": 2
}
