{
 "cells": [
  {
   "cell_type": "code",
   "execution_count": 1,
   "metadata": {},
   "outputs": [],
   "source": [
    "import pandas as pd\n",
    "import numpy as np\n",
    "import matplotlib.pyplot as plt\n",
    "import skimage, cv2, scipy\n",
    "from skimage import io, transform\n",
    "from tqdm import tqdm\n",
    "from copy import copy\n",
    "%matplotlib inline"
   ]
  },
  {
   "cell_type": "code",
   "execution_count": 2,
   "metadata": {},
   "outputs": [],
   "source": [
    "joints=pd.read_csv(\"./dataset(basic).csv\",header=None).as_matrix()"
   ]
  },
  {
   "cell_type": "code",
   "execution_count": 3,
   "metadata": {},
   "outputs": [],
   "source": [
    "img_path=list(path for path in joints[:,0])\n",
    "joint_coors=list(coors for coors in joints[:,1:29])\n",
    "joint_is_valid=list(is_valid for is_valid in joints[:,29:])"
   ]
  },
  {
   "cell_type": "code",
   "execution_count": 4,
   "metadata": {},
   "outputs": [],
   "source": [
    "def process(img_path, joint_coors, joint_is_valid, re_img_size=(256,256), is_valid=False):\n",
    "    img_set=np.zeros([len(img_path),re_img_size[0],re_img_size[1],3],dtype=np.float)\n",
    "    coor_set=np.array(joint_coors).reshape(len(joint_coors),14,2)\n",
    "    \n",
    "    with tqdm(total=len(img_path)) as pbar:\n",
    "        pbar.set_description(\"Processing Images & Coordinates\")\n",
    "        for i, path in enumerate(img_path):\n",
    "            img=skimage.io.imread(path)\n",
    "            img_set[i]=skimage.transform.resize(img,(re_img_size[0],re_img_size[1],3))\n",
    "\n",
    "            for j in range(14):\n",
    "                if is_valid and bool(joint_is_valid[i][j]): coor_set[i][j] = [-1,-1]\n",
    "\n",
    "                if coor_set[i][j][0]==-1: pass\n",
    "                else: coor_set[i][j][0]=coor_set[i][j][0]*(re_img_size[0]/img.shape[1])\n",
    "\n",
    "                if coor_set[i][j][1]==-1: pass\n",
    "                else: coor_set[i][j][1]=coor_set[i][j][1]*(re_img_size[1]/img.shape[0])\n",
    "            pbar.update(1)\n",
    "    return img_set, coor_set"
   ]
  },
  {
   "cell_type": "code",
   "execution_count": 5,
   "metadata": {},
   "outputs": [],
   "source": [
    "def rotation(images, joints, joint_is_valid):\n",
    "    thetas = np.deg2rad((-30,-20,-10,10,20,30))\n",
    "    rotated_img = np.zeros([images.shape[0]*len(thetas), images.shape[1],images.shape[2],3])\n",
    "    rotated_coor = np.zeros([joints.shape[0]*len(thetas), joints.shape[1],2])\n",
    "    rotated_valid = joint_is_valid\n",
    "    \n",
    "    with tqdm(total=len(images)*len(thetas)) as pbar:\n",
    "        pbar.set_description(\"Rotating Images & Coordinates\")\n",
    "        for i, img in enumerate(images):\n",
    "            for j, theta in enumerate(thetas):\n",
    "                img_rotated = scipy.ndimage.rotate(img, theta)\n",
    "                org_center = (np.array(img.shape[:2][::-1])-1)/2\n",
    "                rotated_center = (np.array(img_rotated.shape[:2][::-1])-1)/2\n",
    "\n",
    "                coor_list = list(np.array(coor)+org_center for coor in joints[i])\n",
    "                rotated_coor_list = list((lambda x : (x[0]*np.cos(theta) + x[1]*np.sin(theta) + rotated_center[0],\n",
    "                                                      -x[0]*np.sin(theta) + x[1]*np.cos(theta) + rotated_center[1])\n",
    "                                         )(coor) for coor in coor_list)\n",
    "\n",
    "                img_rotated = skimage.transform.resize(img_rotated, (256,256,3))\n",
    "\n",
    "                rotated_img[(i*len(thetas))+j]=img_rotated\n",
    "                rotated_coor[(i*len(thetas))+j]=np.array(rotated_coor_list)*(256/img_rotated.shape[0])\n",
    "                pbar.update(1)\n",
    "    for i in range(len(thetas)-1):\n",
    "        rotated_valid = np.concatenate((rotated_valid, joint_is_valid), axis=0)\n",
    "            \n",
    "    return {'images':rotated_img,'joints':rotated_coor,'valid':rotated_valid}"
   ]
  },
  {
   "cell_type": "code",
   "execution_count": 6,
   "metadata": {},
   "outputs": [],
   "source": [
    "def mirroring(images, joints, joint_is_valid):\n",
    "    mirrored_img = np.zeros([images.shape[0], images.shape[1],images.shape[2],3])\n",
    "    mirrored_coor = np.zeros([joints.shape[0], joints.shape[1],2])\n",
    "    \n",
    "    with tqdm(total=len(images)) as pbar:\n",
    "        pbar.set_description(\"Mirroring Images & Coordinates\")\n",
    "        for i, img in enumerate(images):\n",
    "            mirrored_img[i] = np.fliplr(img)\n",
    "            for j, joint in enumerate(joints[i]):\n",
    "                mirrored_coor[i][j][1] = joint[1]\n",
    "                if joint[0] > (img.shape[0]/2):\n",
    "                    mirrored_coor[i][j][0] = (lambda x : x-2*(x-(img.shape[0]/2)))(joint[0])\n",
    "                else:\n",
    "                    mirrored_coor[i][j][0] = (lambda x : x+2*((img.shape[0]/2)-x))(joint[0])\n",
    "            pbar.update(1)\n",
    "    return {'images':mirrored_img,'joints':mirrored_coor,'valid':joint_is_valid}"
   ]
  },
  {
   "cell_type": "code",
   "execution_count": 7,
   "metadata": {},
   "outputs": [],
   "source": [
    "def shuffling(images, joints, joint_is_valid):\n",
    "    shuffled_img = np.zeros([images.shape[0], images.shape[1],images.shape[2],3])\n",
    "    shuffled_coor = np.zeros([joints.shape[0], joints.shape[1],2])\n",
    "    shuffled_valid = np.zeros([len(joint_is_valid),14])\n",
    "        \n",
    "    indices=list(range(len(picpic)))\n",
    "    np.random.shuffle(indices)\n",
    "        \n",
    "    for i, idx in enumerate(indices):\n",
    "        shuffled_img[i] = images[idx]\n",
    "        shuffled_coor[i] = joints[idx]\n",
    "        shuffled_valid[i] = joint_is_valid[idx]\n",
    "            \n",
    "    return {'images': shuffled_img,'joints':shuffled_coor,'valid':shuffled_valid}"
   ]
  },
  {
   "cell_type": "code",
   "execution_count": 8,
   "metadata": {},
   "outputs": [],
   "source": [
    "def markJoints(img, joints, joint_is_valid, is_valid=False):  \n",
    "    font = cv2.FONT_HERSHEY_SIMPLEX\n",
    "    for i in range(14):\n",
    "        x, y = map(int,joints[i])\n",
    "        if x!=-1: \n",
    "            if is_valid and bool(joint_is_valid[i]): continue\n",
    "            else:\n",
    "                rr, cc = skimage.draw.circle(y, x, 5) \n",
    "                skimage.draw.set_color(img, (rr, cc), (1,0,0)) \n",
    "                cv2.putText(img, str(i+1), (x,y), font, 0.5, (0.5,0.5,0.5), 2, cv2.LINE_AA)\n",
    "    return img"
   ]
  },
  {
   "cell_type": "code",
   "execution_count": 9,
   "metadata": {
    "scrolled": true
   },
   "outputs": [
    {
     "name": "stderr",
     "output_type": "stream",
     "text": [
      "Processing Images & Coordinates:   0%|          | 0/960 [00:00<?, ?it/s]/home/hahnz/.local/lib/python3.5/site-packages/skimage/transform/_warps.py:84: UserWarning: The default mode, 'constant', will be changed to 'reflect' in skimage 0.15.\n",
      "  warn(\"The default mode, 'constant', will be changed to 'reflect' in \"\n",
      "Processing Images & Coordinates: 100%|██████████| 960/960 [00:22<00:00, 43.34it/s] "
     ]
    },
    {
     "name": "stdout",
     "output_type": "stream",
     "text": [
      "(960, 256, 256, 3)\n"
     ]
    },
    {
     "name": "stderr",
     "output_type": "stream",
     "text": [
      "\n"
     ]
    }
   ],
   "source": [
    "picpic, coco = process(img_path, joint_coors, joint_is_valid)\n",
    "\n",
    "print(picpic.shape)"
   ]
  },
  {
   "cell_type": "code",
   "execution_count": 10,
   "metadata": {},
   "outputs": [
    {
     "name": "stderr",
     "output_type": "stream",
     "text": [
      "Rotating Images & Coordinates:   0%|          | 0/5760 [00:00<?, ?it/s]/home/hahnz/.local/lib/python3.5/site-packages/skimage/transform/_warps.py:84: UserWarning: The default mode, 'constant', will be changed to 'reflect' in skimage 0.15.\n",
      "  warn(\"The default mode, 'constant', will be changed to 'reflect' in \"\n",
      "Rotating Images & Coordinates: 100%|██████████| 5760/5760 [02:40<00:00, 35.86it/s]\n"
     ]
    },
    {
     "name": "stdout",
     "output_type": "stream",
     "text": [
      "(6720, 256, 256, 3)\n"
     ]
    }
   ],
   "source": [
    "rotated = rotation(copy(picpic), copy(coco), copy(joint_is_valid))\n",
    "\n",
    "picpic = np.concatenate((picpic, rotated['images']), axis=0)\n",
    "coco = np.concatenate((coco, rotated['joints']), axis=0)\n",
    "joint_is_valid = np.concatenate((joint_is_valid, rotated['valid']), axis=0)\n",
    "\n",
    "print(picpic.shape)"
   ]
  },
  {
   "cell_type": "code",
   "execution_count": 11,
   "metadata": {},
   "outputs": [
    {
     "name": "stderr",
     "output_type": "stream",
     "text": [
      "Mirroring Images & Coordinates: 100%|██████████| 6720/6720 [00:05<00:00, 1181.03it/s]\n"
     ]
    },
    {
     "name": "stdout",
     "output_type": "stream",
     "text": [
      "(13440, 256, 256, 3)\n"
     ]
    }
   ],
   "source": [
    "fliplred = mirroring(copy(picpic), copy(coco), copy(joint_is_valid))\n",
    "\n",
    "picpic = np.concatenate((picpic, fliplred['images']), axis=0)\n",
    "coco = np.concatenate((coco, fliplred['joints']), axis=0)\n",
    "joint_is_valid = np.concatenate((joint_is_valid, fliplred['valid']), axis=0)\n",
    "\n",
    "print(picpic.shape)"
   ]
  },
  {
   "cell_type": "code",
   "execution_count": 12,
   "metadata": {},
   "outputs": [],
   "source": [
    "shuffled = shuffling(copy(picpic), copy(coco), copy(joint_is_valid))\n",
    "\n",
    "picpic = shuffled['images']\n",
    "coco = shuffled['joints']\n",
    "joint_is_valid = shuffled['valid']"
   ]
  },
  {
   "cell_type": "code",
   "execution_count": 13,
   "metadata": {},
   "outputs": [
    {
     "name": "stdout",
     "output_type": "stream",
     "text": [
      "(13440, 256, 256, 3)\n"
     ]
    }
   ],
   "source": [
    "print(picpic.shape)"
   ]
  }
 ],
 "metadata": {
  "kernelspec": {
   "display_name": "Python 3",
   "language": "python",
   "name": "python3"
  },
  "language_info": {
   "codemirror_mode": {
    "name": "ipython",
    "version": 3
   },
   "file_extension": ".py",
   "mimetype": "text/x-python",
   "name": "python",
   "nbconvert_exporter": "python",
   "pygments_lexer": "ipython3",
   "version": "3.5.2"
  }
 },
 "nbformat": 4,
 "nbformat_minor": 2
}
